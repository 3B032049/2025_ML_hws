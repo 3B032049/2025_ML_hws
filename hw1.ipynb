{
  "nbformat": 4,
  "nbformat_minor": 0,
  "metadata": {
    "colab": {
      "provenance": [],
      "toc_visible": true,
      "authorship_tag": "ABX9TyOGdcsZn6ns/E5D7orsggUe",
      "include_colab_link": true
    },
    "kernelspec": {
      "name": "python3",
      "display_name": "Python 3"
    },
    "language_info": {
      "name": "python"
    }
  },
  "cells": [
    {
      "cell_type": "markdown",
      "metadata": {
        "id": "view-in-github",
        "colab_type": "text"
      },
      "source": [
        "<a href=\"https://colab.research.google.com/github/3B032049/2025_ML_hws/blob/main/hw1.ipynb\" target=\"_parent\"><img src=\"https://colab.research.google.com/assets/colab-badge.svg\" alt=\"Open In Colab\"/></a>"
      ]
    },
    {
      "cell_type": "markdown",
      "source": [
        "# 1"
      ],
      "metadata": {
        "id": "zDqLR5l1Ac8f"
      }
    },
    {
      "cell_type": "code",
      "source": [
        "import numpy as np"
      ],
      "metadata": {
        "id": "-X7EsUP4OOWL"
      },
      "execution_count": null,
      "outputs": []
    },
    {
      "cell_type": "markdown",
      "source": [
        "## 1.手動設定 x 的 6 個特徵值"
      ],
      "metadata": {
        "id": "5XUgYmfgOEjq"
      }
    },
    {
      "cell_type": "code",
      "source": [
        "x = np.array([0.1, 0.2, 0.3, 0.4, 0.5, 0.6])  # 直接給定一個 6 維的向量"
      ],
      "metadata": {
        "id": "4xCzP2D-kFsx"
      },
      "execution_count": null,
      "outputs": []
    },
    {
      "cell_type": "markdown",
      "source": [
        "## 2.設定各層的權重 W 和偏置 b"
      ],
      "metadata": {
        "id": "mGrYchEqkIZ_"
      }
    },
    {
      "cell_type": "markdown",
      "source": [
        "### 第一隱藏層 (6 -> 5)"
      ],
      "metadata": {
        "id": "nVDWChG_kOP1"
      }
    },
    {
      "cell_type": "code",
      "source": [
        "W1 = np.array([      [0.1, -0.2, 0.3, -0.4, 0.5],\n",
        "               [-0.5, 0.4, -0.3, 0.2, -0.1],\n",
        "               [0.2, -0.3, 0.4, -0.5, 0.6],\n",
        "               [-0.6, 0.5, -0.4, 0.3, -0.2],\n",
        "               [0.7, -0.8, 0.9, -1.0, 1.1],\n",
        "               [-0.1, 0.2, -0.3, 0.4, -0.5]])  # 6x5 的矩陣\n",
        "b1 = np.array([0.1, 0.2, 0.3, 0.4, 0.5])  # 偏置為一個 5 維的向量"
      ],
      "metadata": {
        "id": "tGCRJQi8kUgN"
      },
      "execution_count": null,
      "outputs": []
    },
    {
      "cell_type": "markdown",
      "source": [
        "### 第二隱藏層 (5 -> 4)"
      ],
      "metadata": {
        "id": "Mf3U1c-1keMH"
      }
    },
    {
      "cell_type": "code",
      "source": [
        "W2 = np.array([[0.1, -0.1, 0.2, -0.2],\n",
        "               [-0.3, 0.4, -0.5, 0.6],\n",
        "               [0.7, -0.8, 0.9, -1.0],\n",
        "               [0.1, -0.2, 0.3, -0.4],\n",
        "               [-0.5, 0.6, -0.7, 0.8]])  # 5x4 的矩陣\n",
        "b2 = np.array([0.1, 0.2, 0.3, 0.4])  # 偏置為一個 4 維的向量"
      ],
      "metadata": {
        "id": "ntEOBpezkghG"
      },
      "execution_count": null,
      "outputs": []
    },
    {
      "cell_type": "markdown",
      "source": [
        "### 第三隱藏層 (4 -> 4)"
      ],
      "metadata": {
        "id": "z1_5tEbxkiVo"
      }
    },
    {
      "cell_type": "code",
      "source": [
        "W3 = np.array([[0.1, -0.2, 0.3, -0.4],\n",
        "               [-0.5, 0.6, -0.7, 0.8],\n",
        "               [0.9, -1.0, 1.1, -1.2],\n",
        "               [-0.3, 0.4, -0.5, 0.6]])  # 4x4 的矩陣\n",
        "b3 = np.array([0.1, 0.2, 0.3, 0.4])  # 偏置為一個 4 維的向量"
      ],
      "metadata": {
        "id": "2gSG0mUwkmAa"
      },
      "execution_count": null,
      "outputs": []
    },
    {
      "cell_type": "markdown",
      "source": [
        "### 輸出層 (4 -> 3)"
      ],
      "metadata": {
        "id": "znvmYeSAkoYu"
      }
    },
    {
      "cell_type": "code",
      "source": [
        "W4 = np.array([[0.1, -0.2, 0.3],\n",
        "               [-0.4, 0.5, -0.6],\n",
        "               [0.7, -0.8, 0.9],\n",
        "               [-1.0, 1.1, -1.2]])  # 4x3 的矩陣\n",
        "b4 = np.array([0.1, 0.2, 0.3])  # 偏置為一個 3 維的向量"
      ],
      "metadata": {
        "id": "UdVExxmJkq9-"
      },
      "execution_count": null,
      "outputs": []
    },
    {
      "cell_type": "markdown",
      "source": [
        "## 3.定義激活函數"
      ],
      "metadata": {
        "id": "qFS6XGNSkscl"
      }
    },
    {
      "cell_type": "code",
      "source": [
        "def relu(x):\n",
        "    return np.maximum(0, x)\n",
        "\n",
        "def sigmoid(x):\n",
        "    return 1 / (1 + np.exp(-x))\n",
        "\n",
        "def softmax(x):\n",
        "    exp_x = np.exp(x - np.max(x))\n",
        "    return exp_x / exp_x.sum(axis=0, keepdims=True)"
      ],
      "metadata": {
        "id": "VCnrCrztk7Jk"
      },
      "execution_count": null,
      "outputs": []
    },
    {
      "cell_type": "markdown",
      "source": [
        "## 4. 各層加權和 z 和輸出向量 h"
      ],
      "metadata": {
        "id": "UnxVJbddlAx6"
      }
    },
    {
      "cell_type": "markdown",
      "source": [
        "### 第一層"
      ],
      "metadata": {
        "id": "3eXwRdEclHIg"
      }
    },
    {
      "cell_type": "code",
      "source": [
        "z1 = np.dot(x, W1) + b1  # 6x5\n",
        "h1 = relu(z1)  # ReLU 激活，結果形狀應為 (5,)"
      ],
      "metadata": {
        "id": "RI9GFsH3lJgs"
      },
      "execution_count": null,
      "outputs": []
    },
    {
      "cell_type": "markdown",
      "source": [
        "### 第二層"
      ],
      "metadata": {
        "id": "9KObLwgilLGA"
      }
    },
    {
      "cell_type": "code",
      "source": [
        "z2 = np.dot(h1, W2) + b2  # 5x4\n",
        "h2 = relu(z2)  # ReLU 激活，結果形狀應為 (4,)"
      ],
      "metadata": {
        "id": "aWqmm4oYlNIL"
      },
      "execution_count": null,
      "outputs": []
    },
    {
      "cell_type": "markdown",
      "source": [
        "### 第三層"
      ],
      "metadata": {
        "id": "teO5S3zGlOuK"
      }
    },
    {
      "cell_type": "code",
      "source": [
        "z3 = np.dot(h2, W3) + b3  # 4x4\n",
        "h3 = sigmoid(z3)  # Sigmoid 激活，結果形狀應為 (4,)"
      ],
      "metadata": {
        "id": "zkW7wE7dlQis"
      },
      "execution_count": null,
      "outputs": []
    },
    {
      "cell_type": "markdown",
      "source": [
        "### 輸出層"
      ],
      "metadata": {
        "id": "aD-_LanKlTRg"
      }
    },
    {
      "cell_type": "code",
      "source": [
        "z4 = np.dot(h3, W4) + b4  # 4x3\n",
        "y_hat = softmax(z4)  # Softmax 激活，結果形狀應為 (3,)"
      ],
      "metadata": {
        "id": "VGYEXyEzlVHK"
      },
      "execution_count": null,
      "outputs": []
    },
    {
      "cell_type": "markdown",
      "source": [
        "## 5.顯示各層的形狀和數量"
      ],
      "metadata": {
        "id": "e_4YlU5RlW5c"
      }
    },
    {
      "cell_type": "code",
      "source": [
        "print(\"x:\", x.shape)\n",
        "print(\"W1:\", W1.shape, \"b1:\", b1.shape)\n",
        "print(\"W2:\", W2.shape, \"b2:\", b2.shape)\n",
        "print(\"W3:\", W3.shape, \"b3:\", b3.shape)\n",
        "print(\"W4:\", W4.shape, \"b4:\", b4.shape)\n",
        "\n",
        "print(\"z1:\", z1.shape, \"h1:\", h1.shape)\n",
        "print(\"z2:\", z2.shape, \"h2:\", h2.shape)\n",
        "print(\"z3:\", z3.shape, \"h3:\", h3.shape)\n",
        "print(\"z4:\", z4.shape, \"y_hat:\", y_hat.shape)"
      ],
      "metadata": {
        "colab": {
          "base_uri": "https://localhost:8080/"
        },
        "id": "MC3lUQv0lbnG",
        "outputId": "55f90078-f0d9-4de8-cc22-62516d779c02"
      },
      "execution_count": null,
      "outputs": [
        {
          "output_type": "stream",
          "name": "stdout",
          "text": [
            "x: (6,)\n",
            "W1: (6, 5) b1: (5,)\n",
            "W2: (5, 4) b2: (4,)\n",
            "W3: (4, 4) b3: (4,)\n",
            "W4: (4, 3) b4: (3,)\n",
            "z1: (5,) h1: (5,)\n",
            "z2: (4,) h2: (4,)\n",
            "z3: (4,) h3: (4,)\n",
            "z4: (3,) y_hat: (3,)\n"
          ]
        }
      ]
    },
    {
      "cell_type": "markdown",
      "source": [
        "## 6.計算 Cross-Entropy Error"
      ],
      "metadata": {
        "id": "WMoetuZGldjQ"
      }
    },
    {
      "cell_type": "code",
      "source": [
        "y = np.array([0, 0, 1])  # 真實標籤\n",
        "cross_entropy_error = -np.sum(y * np.log(y_hat))  # Cross-Entropy 計算\n",
        "print(\"Cross-Entropy Error:\", cross_entropy_error)\n"
      ],
      "metadata": {
        "id": "ZyiIYdQ15Y_f",
        "outputId": "1155f909-289d-4af6-8626-1d62a4d08032",
        "colab": {
          "base_uri": "https://localhost:8080/"
        }
      },
      "execution_count": null,
      "outputs": [
        {
          "output_type": "stream",
          "name": "stdout",
          "text": [
            "Cross-Entropy Error: 1.6037693079908117\n"
          ]
        }
      ]
    },
    {
      "cell_type": "markdown",
      "source": [
        "# 2"
      ],
      "metadata": {
        "id": "drEM0tbrSDN3"
      }
    },
    {
      "cell_type": "code",
      "source": [
        "pip install gradio"
      ],
      "metadata": {
        "colab": {
          "base_uri": "https://localhost:8080/"
        },
        "collapsed": true,
        "id": "2kgU5WsYte2M",
        "outputId": "db01d7dd-9ab1-4532-c62c-0033cfac513d"
      },
      "execution_count": null,
      "outputs": [
        {
          "output_type": "stream",
          "name": "stdout",
          "text": [
            "Collecting gradio\n",
            "  Downloading gradio-5.21.0-py3-none-any.whl.metadata (16 kB)\n",
            "Collecting aiofiles<24.0,>=22.0 (from gradio)\n",
            "  Downloading aiofiles-23.2.1-py3-none-any.whl.metadata (9.7 kB)\n",
            "Requirement already satisfied: anyio<5.0,>=3.0 in /usr/local/lib/python3.11/dist-packages (from gradio) (3.7.1)\n",
            "Collecting fastapi<1.0,>=0.115.2 (from gradio)\n",
            "  Downloading fastapi-0.115.11-py3-none-any.whl.metadata (27 kB)\n",
            "Collecting ffmpy (from gradio)\n",
            "  Downloading ffmpy-0.5.0-py3-none-any.whl.metadata (3.0 kB)\n",
            "Collecting gradio-client==1.7.2 (from gradio)\n",
            "  Downloading gradio_client-1.7.2-py3-none-any.whl.metadata (7.1 kB)\n",
            "Collecting groovy~=0.1 (from gradio)\n",
            "  Downloading groovy-0.1.2-py3-none-any.whl.metadata (6.1 kB)\n",
            "Requirement already satisfied: httpx>=0.24.1 in /usr/local/lib/python3.11/dist-packages (from gradio) (0.28.1)\n",
            "Requirement already satisfied: huggingface-hub>=0.28.1 in /usr/local/lib/python3.11/dist-packages (from gradio) (0.28.1)\n",
            "Requirement already satisfied: jinja2<4.0 in /usr/local/lib/python3.11/dist-packages (from gradio) (3.1.6)\n",
            "Collecting markupsafe~=2.0 (from gradio)\n",
            "  Downloading MarkupSafe-2.1.5-cp311-cp311-manylinux_2_17_x86_64.manylinux2014_x86_64.whl.metadata (3.0 kB)\n",
            "Requirement already satisfied: numpy<3.0,>=1.0 in /usr/local/lib/python3.11/dist-packages (from gradio) (1.26.4)\n",
            "Requirement already satisfied: orjson~=3.0 in /usr/local/lib/python3.11/dist-packages (from gradio) (3.10.15)\n",
            "Requirement already satisfied: packaging in /usr/local/lib/python3.11/dist-packages (from gradio) (24.2)\n",
            "Requirement already satisfied: pandas<3.0,>=1.0 in /usr/local/lib/python3.11/dist-packages (from gradio) (2.2.2)\n",
            "Requirement already satisfied: pillow<12.0,>=8.0 in /usr/local/lib/python3.11/dist-packages (from gradio) (11.1.0)\n",
            "Requirement already satisfied: pydantic>=2.0 in /usr/local/lib/python3.11/dist-packages (from gradio) (2.10.6)\n",
            "Collecting pydub (from gradio)\n",
            "  Downloading pydub-0.25.1-py2.py3-none-any.whl.metadata (1.4 kB)\n",
            "Collecting python-multipart>=0.0.18 (from gradio)\n",
            "  Downloading python_multipart-0.0.20-py3-none-any.whl.metadata (1.8 kB)\n",
            "Requirement already satisfied: pyyaml<7.0,>=5.0 in /usr/local/lib/python3.11/dist-packages (from gradio) (6.0.2)\n",
            "Collecting ruff>=0.9.3 (from gradio)\n",
            "  Downloading ruff-0.11.0-py3-none-manylinux_2_17_x86_64.manylinux2014_x86_64.whl.metadata (25 kB)\n",
            "Collecting safehttpx<0.2.0,>=0.1.6 (from gradio)\n",
            "  Downloading safehttpx-0.1.6-py3-none-any.whl.metadata (4.2 kB)\n",
            "Collecting semantic-version~=2.0 (from gradio)\n",
            "  Downloading semantic_version-2.10.0-py2.py3-none-any.whl.metadata (9.7 kB)\n",
            "Collecting starlette<1.0,>=0.40.0 (from gradio)\n",
            "  Downloading starlette-0.46.1-py3-none-any.whl.metadata (6.2 kB)\n",
            "Collecting tomlkit<0.14.0,>=0.12.0 (from gradio)\n",
            "  Downloading tomlkit-0.13.2-py3-none-any.whl.metadata (2.7 kB)\n",
            "Requirement already satisfied: typer<1.0,>=0.12 in /usr/local/lib/python3.11/dist-packages (from gradio) (0.15.2)\n",
            "Requirement already satisfied: typing-extensions~=4.0 in /usr/local/lib/python3.11/dist-packages (from gradio) (4.12.2)\n",
            "Collecting uvicorn>=0.14.0 (from gradio)\n",
            "  Downloading uvicorn-0.34.0-py3-none-any.whl.metadata (6.5 kB)\n",
            "Requirement already satisfied: fsspec in /usr/local/lib/python3.11/dist-packages (from gradio-client==1.7.2->gradio) (2024.10.0)\n",
            "Requirement already satisfied: websockets<16.0,>=10.0 in /usr/local/lib/python3.11/dist-packages (from gradio-client==1.7.2->gradio) (14.2)\n",
            "Requirement already satisfied: idna>=2.8 in /usr/local/lib/python3.11/dist-packages (from anyio<5.0,>=3.0->gradio) (3.10)\n",
            "Requirement already satisfied: sniffio>=1.1 in /usr/local/lib/python3.11/dist-packages (from anyio<5.0,>=3.0->gradio) (1.3.1)\n",
            "Requirement already satisfied: certifi in /usr/local/lib/python3.11/dist-packages (from httpx>=0.24.1->gradio) (2025.1.31)\n",
            "Requirement already satisfied: httpcore==1.* in /usr/local/lib/python3.11/dist-packages (from httpx>=0.24.1->gradio) (1.0.7)\n",
            "Requirement already satisfied: h11<0.15,>=0.13 in /usr/local/lib/python3.11/dist-packages (from httpcore==1.*->httpx>=0.24.1->gradio) (0.14.0)\n",
            "Requirement already satisfied: filelock in /usr/local/lib/python3.11/dist-packages (from huggingface-hub>=0.28.1->gradio) (3.17.0)\n",
            "Requirement already satisfied: requests in /usr/local/lib/python3.11/dist-packages (from huggingface-hub>=0.28.1->gradio) (2.32.3)\n",
            "Requirement already satisfied: tqdm>=4.42.1 in /usr/local/lib/python3.11/dist-packages (from huggingface-hub>=0.28.1->gradio) (4.67.1)\n",
            "Requirement already satisfied: python-dateutil>=2.8.2 in /usr/local/lib/python3.11/dist-packages (from pandas<3.0,>=1.0->gradio) (2.8.2)\n",
            "Requirement already satisfied: pytz>=2020.1 in /usr/local/lib/python3.11/dist-packages (from pandas<3.0,>=1.0->gradio) (2025.1)\n",
            "Requirement already satisfied: tzdata>=2022.7 in /usr/local/lib/python3.11/dist-packages (from pandas<3.0,>=1.0->gradio) (2025.1)\n",
            "Requirement already satisfied: annotated-types>=0.6.0 in /usr/local/lib/python3.11/dist-packages (from pydantic>=2.0->gradio) (0.7.0)\n",
            "Requirement already satisfied: pydantic-core==2.27.2 in /usr/local/lib/python3.11/dist-packages (from pydantic>=2.0->gradio) (2.27.2)\n",
            "Requirement already satisfied: click>=8.0.0 in /usr/local/lib/python3.11/dist-packages (from typer<1.0,>=0.12->gradio) (8.1.8)\n",
            "Requirement already satisfied: shellingham>=1.3.0 in /usr/local/lib/python3.11/dist-packages (from typer<1.0,>=0.12->gradio) (1.5.4)\n",
            "Requirement already satisfied: rich>=10.11.0 in /usr/local/lib/python3.11/dist-packages (from typer<1.0,>=0.12->gradio) (13.9.4)\n",
            "Requirement already satisfied: six>=1.5 in /usr/local/lib/python3.11/dist-packages (from python-dateutil>=2.8.2->pandas<3.0,>=1.0->gradio) (1.17.0)\n",
            "Requirement already satisfied: markdown-it-py>=2.2.0 in /usr/local/lib/python3.11/dist-packages (from rich>=10.11.0->typer<1.0,>=0.12->gradio) (3.0.0)\n",
            "Requirement already satisfied: pygments<3.0.0,>=2.13.0 in /usr/local/lib/python3.11/dist-packages (from rich>=10.11.0->typer<1.0,>=0.12->gradio) (2.18.0)\n",
            "Requirement already satisfied: charset-normalizer<4,>=2 in /usr/local/lib/python3.11/dist-packages (from requests->huggingface-hub>=0.28.1->gradio) (3.4.1)\n",
            "Requirement already satisfied: urllib3<3,>=1.21.1 in /usr/local/lib/python3.11/dist-packages (from requests->huggingface-hub>=0.28.1->gradio) (2.3.0)\n",
            "Requirement already satisfied: mdurl~=0.1 in /usr/local/lib/python3.11/dist-packages (from markdown-it-py>=2.2.0->rich>=10.11.0->typer<1.0,>=0.12->gradio) (0.1.2)\n",
            "Downloading gradio-5.21.0-py3-none-any.whl (46.2 MB)\n",
            "\u001b[2K   \u001b[90m━━━━━━━━━━━━━━━━━━━━━━━━━━━━━━━━━━━━━━━━\u001b[0m \u001b[32m46.2/46.2 MB\u001b[0m \u001b[31m18.5 MB/s\u001b[0m eta \u001b[36m0:00:00\u001b[0m\n",
            "\u001b[?25hDownloading gradio_client-1.7.2-py3-none-any.whl (322 kB)\n",
            "\u001b[2K   \u001b[90m━━━━━━━━━━━━━━━━━━━━━━━━━━━━━━━━━━━━━━━━\u001b[0m \u001b[32m322.1/322.1 kB\u001b[0m \u001b[31m18.2 MB/s\u001b[0m eta \u001b[36m0:00:00\u001b[0m\n",
            "\u001b[?25hDownloading aiofiles-23.2.1-py3-none-any.whl (15 kB)\n",
            "Downloading fastapi-0.115.11-py3-none-any.whl (94 kB)\n",
            "\u001b[2K   \u001b[90m━━━━━━━━━━━━━━━━━━━━━━━━━━━━━━━━━━━━━━━━\u001b[0m \u001b[32m94.9/94.9 kB\u001b[0m \u001b[31m6.9 MB/s\u001b[0m eta \u001b[36m0:00:00\u001b[0m\n",
            "\u001b[?25hDownloading groovy-0.1.2-py3-none-any.whl (14 kB)\n",
            "Downloading MarkupSafe-2.1.5-cp311-cp311-manylinux_2_17_x86_64.manylinux2014_x86_64.whl (28 kB)\n",
            "Downloading python_multipart-0.0.20-py3-none-any.whl (24 kB)\n",
            "Downloading ruff-0.11.0-py3-none-manylinux_2_17_x86_64.manylinux2014_x86_64.whl (11.3 MB)\n",
            "\u001b[2K   \u001b[90m━━━━━━━━━━━━━━━━━━━━━━━━━━━━━━━━━━━━━━━━\u001b[0m \u001b[32m11.3/11.3 MB\u001b[0m \u001b[31m97.9 MB/s\u001b[0m eta \u001b[36m0:00:00\u001b[0m\n",
            "\u001b[?25hDownloading safehttpx-0.1.6-py3-none-any.whl (8.7 kB)\n",
            "Downloading semantic_version-2.10.0-py2.py3-none-any.whl (15 kB)\n",
            "Downloading starlette-0.46.1-py3-none-any.whl (71 kB)\n",
            "\u001b[2K   \u001b[90m━━━━━━━━━━━━━━━━━━━━━━━━━━━━━━━━━━━━━━━━\u001b[0m \u001b[32m72.0/72.0 kB\u001b[0m \u001b[31m5.5 MB/s\u001b[0m eta \u001b[36m0:00:00\u001b[0m\n",
            "\u001b[?25hDownloading tomlkit-0.13.2-py3-none-any.whl (37 kB)\n",
            "Downloading uvicorn-0.34.0-py3-none-any.whl (62 kB)\n",
            "\u001b[2K   \u001b[90m━━━━━━━━━━━━━━━━━━━━━━━━━━━━━━━━━━━━━━━━\u001b[0m \u001b[32m62.3/62.3 kB\u001b[0m \u001b[31m4.4 MB/s\u001b[0m eta \u001b[36m0:00:00\u001b[0m\n",
            "\u001b[?25hDownloading ffmpy-0.5.0-py3-none-any.whl (6.0 kB)\n",
            "Downloading pydub-0.25.1-py2.py3-none-any.whl (32 kB)\n",
            "Installing collected packages: pydub, uvicorn, tomlkit, semantic-version, ruff, python-multipart, markupsafe, groovy, ffmpy, aiofiles, starlette, safehttpx, gradio-client, fastapi, gradio\n",
            "  Attempting uninstall: markupsafe\n",
            "    Found existing installation: MarkupSafe 3.0.2\n",
            "    Uninstalling MarkupSafe-3.0.2:\n",
            "      Successfully uninstalled MarkupSafe-3.0.2\n",
            "\u001b[31mERROR: pip's dependency resolver does not currently take into account all the packages that are installed. This behaviour is the source of the following dependency conflicts.\n",
            "torch 2.6.0+cu124 requires nvidia-cublas-cu12==12.4.5.8; platform_system == \"Linux\" and platform_machine == \"x86_64\", but you have nvidia-cublas-cu12 12.5.3.2 which is incompatible.\n",
            "torch 2.6.0+cu124 requires nvidia-cuda-cupti-cu12==12.4.127; platform_system == \"Linux\" and platform_machine == \"x86_64\", but you have nvidia-cuda-cupti-cu12 12.5.82 which is incompatible.\n",
            "torch 2.6.0+cu124 requires nvidia-cuda-nvrtc-cu12==12.4.127; platform_system == \"Linux\" and platform_machine == \"x86_64\", but you have nvidia-cuda-nvrtc-cu12 12.5.82 which is incompatible.\n",
            "torch 2.6.0+cu124 requires nvidia-cuda-runtime-cu12==12.4.127; platform_system == \"Linux\" and platform_machine == \"x86_64\", but you have nvidia-cuda-runtime-cu12 12.5.82 which is incompatible.\n",
            "torch 2.6.0+cu124 requires nvidia-cudnn-cu12==9.1.0.70; platform_system == \"Linux\" and platform_machine == \"x86_64\", but you have nvidia-cudnn-cu12 9.3.0.75 which is incompatible.\n",
            "torch 2.6.0+cu124 requires nvidia-cufft-cu12==11.2.1.3; platform_system == \"Linux\" and platform_machine == \"x86_64\", but you have nvidia-cufft-cu12 11.2.3.61 which is incompatible.\n",
            "torch 2.6.0+cu124 requires nvidia-curand-cu12==10.3.5.147; platform_system == \"Linux\" and platform_machine == \"x86_64\", but you have nvidia-curand-cu12 10.3.6.82 which is incompatible.\n",
            "torch 2.6.0+cu124 requires nvidia-cusolver-cu12==11.6.1.9; platform_system == \"Linux\" and platform_machine == \"x86_64\", but you have nvidia-cusolver-cu12 11.6.3.83 which is incompatible.\n",
            "torch 2.6.0+cu124 requires nvidia-cusparse-cu12==12.3.1.170; platform_system == \"Linux\" and platform_machine == \"x86_64\", but you have nvidia-cusparse-cu12 12.5.1.3 which is incompatible.\n",
            "torch 2.6.0+cu124 requires nvidia-nvjitlink-cu12==12.4.127; platform_system == \"Linux\" and platform_machine == \"x86_64\", but you have nvidia-nvjitlink-cu12 12.5.82 which is incompatible.\u001b[0m\u001b[31m\n",
            "\u001b[0mSuccessfully installed aiofiles-23.2.1 fastapi-0.115.11 ffmpy-0.5.0 gradio-5.21.0 gradio-client-1.7.2 groovy-0.1.2 markupsafe-2.1.5 pydub-0.25.1 python-multipart-0.0.20 ruff-0.11.0 safehttpx-0.1.6 semantic-version-2.10.0 starlette-0.46.1 tomlkit-0.13.2 uvicorn-0.34.0\n"
          ]
        }
      ]
    },
    {
      "cell_type": "code",
      "source": [
        "import numpy as np\n",
        "import gradio as gr"
      ],
      "metadata": {
        "id": "nvsD4EKBoNti"
      },
      "execution_count": null,
      "outputs": []
    },
    {
      "cell_type": "markdown",
      "source": [
        "## 1:定義激活函數"
      ],
      "metadata": {
        "id": "Fl8bVGHKs6z0"
      }
    },
    {
      "cell_type": "code",
      "source": [
        "def relu(x):\n",
        "    return np.maximum(0, x)\n",
        "\n",
        "def sigmoid(x):\n",
        "    return 1 / (1 + np.exp(-x))\n",
        "\n",
        "def softmax(x):\n",
        "    exp_x = np.exp(x - np.max(x))\n",
        "    return exp_x / exp_x.sum(axis=0, keepdims=True)"
      ],
      "metadata": {
        "id": "bUWaeD91oZWS"
      },
      "execution_count": null,
      "outputs": []
    },
    {
      "cell_type": "markdown",
      "source": [
        "## 2:定義神經網路模型"
      ],
      "metadata": {
        "id": "CsNIG9A3tFB7"
      }
    },
    {
      "cell_type": "code",
      "source": [
        "def dnn(x):\n",
        "    # 設定權重和偏置\n",
        "    W1 = np.array([[0.1, -0.2, 0.3, -0.4, 0.5],\n",
        "                   [-0.5, 0.4, -0.3, 0.2, -0.1],\n",
        "                   [0.2, -0.3, 0.4, -0.5, 0.6],\n",
        "                   [-0.6, 0.5, -0.4, 0.3, -0.2],\n",
        "                   [0.7, -0.8, 0.9, -1.0, 1.1],\n",
        "                   [-0.1, 0.2, -0.3, 0.4, -0.5]])  # 6x5 的矩陣\n",
        "    b1 = np.array([0.1, 0.2, 0.3, 0.4, 0.5])  # 偏置為一個 5 維的向量\n",
        "\n",
        "    W2 = np.array([[0.1, -0.1, 0.2, -0.2],\n",
        "                   [-0.3, 0.4, -0.5, 0.6],\n",
        "                   [0.7, -0.8, 0.9, -1.0],\n",
        "                   [0.1, -0.2, 0.3, -0.4],\n",
        "                   [-0.5, 0.6, -0.7, 0.8]])  # 5x4 的矩陣\n",
        "    b2 = np.array([0.1, 0.2, 0.3, 0.4])  # 偏置為一個 4 維的向量\n",
        "\n",
        "    W3 = np.array([[0.1, -0.2, 0.3, -0.4],\n",
        "                   [-0.5, 0.6, -0.7, 0.8],\n",
        "                   [0.9, -1.0, 1.1, -1.2],\n",
        "                   [-0.3, 0.4, -0.5, 0.6]])  # 4x4 的矩陣\n",
        "    b3 = np.array([0.1, 0.2, 0.3, 0.4])  # 偏置為一個 4 維的向量\n",
        "\n",
        "    W4 = np.array([[0.1, -0.2, 0.3],\n",
        "                   [-0.4, 0.5, -0.6],\n",
        "                   [0.7, -0.8, 0.9],\n",
        "                   [-1.0, 1.1, -1.2]])  # 4x3 的矩陣\n",
        "    b4 = np.array([0.1, 0.2, 0.3])  # 偏置為一個 3 維的向量\n",
        "\n",
        "    # 計算前向傳播\n",
        "    z1 = np.dot(x, W1) + b1  # 6x5\n",
        "    h1 = relu(z1)  # ReLU 激活，結果形狀應為 (5,)\n",
        "\n",
        "    z2 = np.dot(h1, W2) + b2  # 5x4\n",
        "    h2 = relu(z2)  # ReLU 激活，結果形狀應為 (4,)\n",
        "\n",
        "    z3 = np.dot(h2, W3) + b3  # 4x4\n",
        "    h3 = sigmoid(z3)  # Sigmoid 激活，結果形狀應為 (4,)\n",
        "\n",
        "    z4 = np.dot(h3, W4) + b4  # 4x3\n",
        "    y_hat = softmax(z4)  # Softmax 激活，結果形狀應為 (3,)\n",
        "\n",
        "    return y_hat"
      ],
      "metadata": {
        "id": "lZ7C3VH9okm1"
      },
      "execution_count": null,
      "outputs": []
    },
    {
      "cell_type": "markdown",
      "source": [
        "## 3:設計 Gradio 介面"
      ],
      "metadata": {
        "id": "Tm06ArOSoral"
      }
    },
    {
      "cell_type": "code",
      "source": [
        "\n",
        "def predict_class(x1, x2, x3, x4, x5, x6):\n",
        "    # 將六個數字輸入轉換為 numpy array 並進行預測\n",
        "    x = np.array([x1, x2, x3, x4, x5, x6], dtype=float)  # 轉換為 numpy array\n",
        "    y_hat = dnn(x)\n",
        "\n",
        "    # 返回機率最高的類別（索引 + 1）\n",
        "    predicted_class = np.argmax(y_hat)\n",
        "    return int(predicted_class + 1)  # 類別為 1, 2 或 3\n",
        "\n",
        "# 定義 Gradio 接口，6個輸入數字\n",
        "input = [\n",
        "    gr.Number(label=\"輸入 x1\"),\n",
        "    gr.Number(label=\"輸入 x2\"),\n",
        "    gr.Number(label=\"輸入 x3\"),\n",
        "    gr.Number(label=\"輸入 x4\"),\n",
        "    gr.Number(label=\"輸入 x5\"),\n",
        "    gr.Number(label=\"輸入 x6\")\n",
        "]\n",
        "\n",
        "output = gr.Number(label=\"預測類別\")\n",
        "\n",
        "# 啟動 Gradio 介面\n",
        "iface = gr.Interface(fn=predict_class, inputs=input, outputs=output, live=True)\n",
        "iface.launch()\n"
      ],
      "metadata": {
        "id": "1pxVSKbKuIst",
        "outputId": "556dcbe6-a50c-4d5b-8b73-64676ba420f7",
        "colab": {
          "base_uri": "https://localhost:8080/",
          "height": 646
        }
      },
      "execution_count": null,
      "outputs": [
        {
          "output_type": "stream",
          "name": "stdout",
          "text": [
            "Running Gradio in a Colab notebook requires sharing enabled. Automatically setting `share=True` (you can turn this off by setting `share=False` in `launch()` explicitly).\n",
            "\n",
            "Colab notebook detected. To show errors in colab notebook, set debug=True in launch()\n",
            "* Running on public URL: https://d1a5568dde03954dfe.gradio.live\n",
            "\n",
            "This share link expires in 72 hours. For free permanent hosting and GPU upgrades, run `gradio deploy` from the terminal in the working directory to deploy to Hugging Face Spaces (https://huggingface.co/spaces)\n"
          ]
        },
        {
          "output_type": "display_data",
          "data": {
            "text/plain": [
              "<IPython.core.display.HTML object>"
            ],
            "text/html": [
              "<div><iframe src=\"https://d1a5568dde03954dfe.gradio.live\" width=\"100%\" height=\"500\" allow=\"autoplay; camera; microphone; clipboard-read; clipboard-write;\" frameborder=\"0\" allowfullscreen></iframe></div>"
            ]
          },
          "metadata": {}
        },
        {
          "output_type": "execute_result",
          "data": {
            "text/plain": []
          },
          "metadata": {},
          "execution_count": 9
        }
      ]
    }
  ]
}