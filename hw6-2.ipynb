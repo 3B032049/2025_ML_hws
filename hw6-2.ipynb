{
  "nbformat": 4,
  "nbformat_minor": 0,
  "metadata": {
    "colab": {
      "provenance": [],
      "authorship_tag": "ABX9TyNMLXnj+kv2X3p/B9Oz9yOw",
      "include_colab_link": true
    },
    "kernelspec": {
      "name": "python3",
      "display_name": "Python 3"
    },
    "language_info": {
      "name": "python"
    }
  },
  "cells": [
    {
      "cell_type": "markdown",
      "metadata": {
        "id": "view-in-github",
        "colab_type": "text"
      },
      "source": [
        "<a href=\"https://colab.research.google.com/github/3B032049/2025_ML_hws/blob/main/hw6-2.ipynb\" target=\"_parent\"><img src=\"https://colab.research.google.com/assets/colab-badge.svg\" alt=\"Open In Colab\"/></a>"
      ]
    },
    {
      "cell_type": "code",
      "execution_count": 7,
      "metadata": {
        "id": "dRfWeeBjVMg0"
      },
      "outputs": [],
      "source": [
        "import numpy as np\n",
        "\n",
        "\n",
        "x1 = np.array([1, 2, 3])\n",
        "x2 = np.array([0, 1, -1])\n",
        "x3 = np.array([-2, 0, 2])\n",
        "\n",
        "\n",
        "Wx = np.array([\n",
        "    [1, 2, 3, 4],\n",
        "    [5, 6, 7, 8],\n",
        "    [9, 1, 11, 12]\n",
        "])  # shape: (3, 4)\n",
        "\n",
        "Wh = np.array([\n",
        "    [1, 0, -1, 0],\n",
        "    [0, 1, 0, -1],\n",
        "    [-1, 0, 1, 0],\n",
        "    [0, -1, 0, 1]\n",
        "])  # shape: (4, 4)\n",
        "\n",
        "b = np.array([0.01, 0.02, 0.03, 0.04])  # shape: (4,)"
      ]
    },
    {
      "cell_type": "code",
      "source": [
        "def rnn_step(x_t, h_prev):\n",
        "    return np.tanh(np.dot(x_t, Wx) + np.dot(h_prev, Wh) + b)"
      ],
      "metadata": {
        "id": "u7vXlykCVntb"
      },
      "execution_count": 3,
      "outputs": []
    },
    {
      "cell_type": "code",
      "source": [
        "# 初始狀態 h0 設為零向量\n",
        "h0 = np.zeros(4)\n",
        "\n",
        "# 時間步 t=1\n",
        "h1 = rnn_step(x1, h0)\n",
        "print(\"h1 =\", h1)\n",
        "\n",
        "# 時間步 t=2\n",
        "h2 = rnn_step(x2, h1)\n",
        "print(\"h2 =\", h2)\n",
        "\n",
        "# 時間步 t=3\n",
        "h3 = rnn_step(x3, h2)\n",
        "print(\"h3 =\", h3)"
      ],
      "metadata": {
        "colab": {
          "base_uri": "https://localhost:8080/"
        },
        "id": "mxewwcc1Vqd7",
        "outputId": "f8ff1be1-d7ec-446f-a672-c2ad3295c08e"
      },
      "execution_count": 9,
      "outputs": [
        {
          "output_type": "stream",
          "name": "stdout",
          "text": [
            "h1 = [1. 1. 1. 1.]\n",
            "h2 = [-0.99931576  0.99991276 -0.99928784 -0.99927346]\n",
            "h3 = [1.         0.01918387 1.         1.        ]\n"
          ]
        }
      ]
    }
  ]
}