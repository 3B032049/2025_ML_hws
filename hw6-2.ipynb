{
  "nbformat": 4,
  "nbformat_minor": 0,
  "metadata": {
    "colab": {
      "provenance": [],
      "authorship_tag": "ABX9TyPVGQOQyAec4oq6gRS9VJTW",
      "include_colab_link": true
    },
    "kernelspec": {
      "name": "python3",
      "display_name": "Python 3"
    },
    "language_info": {
      "name": "python"
    }
  },
  "cells": [
    {
      "cell_type": "markdown",
      "metadata": {
        "id": "view-in-github",
        "colab_type": "text"
      },
      "source": [
        "<a href=\"https://colab.research.google.com/github/3B032049/2025_ML_hws/blob/main/hw6-2.ipynb\" target=\"_parent\"><img src=\"https://colab.research.google.com/assets/colab-badge.svg\" alt=\"Open In Colab\"/></a>"
      ]
    },
    {
      "cell_type": "code",
      "execution_count": 40,
      "metadata": {
        "id": "dRfWeeBjVMg0"
      },
      "outputs": [],
      "source": [
        "import numpy as np\n",
        "\n",
        "\n",
        "x1 = np.array([0.1, 0.2, 0.3])\n",
        "x2 = np.array([0.5, 0.4, 0.3])\n",
        "x3 = np.array([0.0, 0.1, 0.0])\n",
        "\n",
        "\n",
        "Wx = np.array([\n",
        "    [0.1, 0.2, 0.3, 0.4],\n",
        "    [0.5, 0.6, 0.7, 0.8],\n",
        "    [0.9, 1.0, 1.1, 1.2]\n",
        "])  # shape: (3, 4)\n",
        "\n",
        "Wh = np.array([\n",
        "    [0.1, 0.0, 0.1, 0.0],\n",
        "    [0.0, 0.1, 0.0, 0.1],\n",
        "    [0.1, 0.1, 0.1, 0.1],\n",
        "    [0.2, 0.2, 0.2, 0.2]\n",
        "])  # shape: (4, 4)\n",
        "\n",
        "b = np.array([0.01, 0.02, 0.03, 0.04])  # shape: (4,)"
      ]
    },
    {
      "cell_type": "code",
      "source": [
        "def tanh(x_t, h_prev):\n",
        "    return np.tanh(np.dot(x_t, Wx) + np.dot(h_prev, Wh) + b)"
      ],
      "metadata": {
        "id": "u7vXlykCVntb"
      },
      "execution_count": 41,
      "outputs": []
    },
    {
      "cell_type": "code",
      "source": [
        "# 初始狀態 h0 設為零向量\n",
        "h0 = np.zeros(4)\n",
        "\n",
        "# 時間步 t=1\n",
        "h1 = tanh(x1, h0)\n",
        "print(\"h1 =\", h1)\n",
        "\n",
        "# 時間步 t=2\n",
        "h2 = tanh(x2, h1)\n",
        "print(\"h2 =\", h2)\n",
        "\n",
        "# 時間步 t=3\n",
        "h3 = tanh(x3, h2)\n",
        "print(\"h3 =\", h3)"
      ],
      "metadata": {
        "colab": {
          "base_uri": "https://localhost:8080/"
        },
        "id": "mxewwcc1Vqd7",
        "outputId": "d530ac91-8c39-435f-9520-a2780ee2a4e9"
      },
      "execution_count": 42,
      "outputs": [
        {
          "output_type": "stream",
          "name": "stdout",
          "text": [
            "h1 = [0.37136023 0.43008421 0.48538109 0.53704957]\n",
            "h2 = [0.618816   0.69571962 0.75439786 0.80720563]\n",
            "h3 = [0.34412356 0.36829826 0.37888962 0.40235267]\n"
          ]
        }
      ]
    },
    {
      "cell_type": "markdown",
      "source": [
        "# hw6-3"
      ],
      "metadata": {
        "id": "8rEktmj-V1sQ"
      }
    },
    {
      "cell_type": "code",
      "source": [
        "# Decoder 第 3 步的 query 向量\n",
        "S3 = np.array([2, 5, 3, 1])  # shape: (4,)"
      ],
      "metadata": {
        "id": "wcAKTWDPXJLY"
      },
      "execution_count": 43,
      "outputs": []
    },
    {
      "cell_type": "code",
      "source": [
        "# 計算注意力強度 e1, e2, e3（內積）\n",
        "e1 = np.dot(S3, h1)\n",
        "e2 = np.dot(S3, h2)\n",
        "e3 = np.dot(S3, h3)\n",
        "e = np.array([e1, e2, e3])\n"
      ],
      "metadata": {
        "id": "sREMig81XK93"
      },
      "execution_count": 44,
      "outputs": []
    },
    {
      "cell_type": "code",
      "source": [
        "print(\"注意力強度 e =\", e)"
      ],
      "metadata": {
        "colab": {
          "base_uri": "https://localhost:8080/"
        },
        "id": "zV0wktXJXQdH",
        "outputId": "92b342fb-0518-4b6a-9d34-bf2ebc7437f8"
      },
      "execution_count": 45,
      "outputs": [
        {
          "output_type": "stream",
          "name": "stdout",
          "text": [
            "注意力強度 e = [4.88633435 7.78662929 4.06875994]\n"
          ]
        }
      ]
    },
    {
      "cell_type": "code",
      "source": [
        "def softmax(x):\n",
        "    e_x = np.exp(x - np.max(x))\n",
        "    return e_x / e_x.sum()\n",
        "\n",
        "a = softmax(e)  # [a1, a2, a3]\n",
        "print(\"注意力權重 a =\", a)"
      ],
      "metadata": {
        "colab": {
          "base_uri": "https://localhost:8080/"
        },
        "id": "3jd_lfSPXiNP",
        "outputId": "58340b41-0c3e-42d3-dfdd-2856d9352bc5"
      },
      "execution_count": 46,
      "outputs": [
        {
          "output_type": "stream",
          "name": "stdout",
          "text": [
            "注意力權重 a = [0.05096578 0.92653276 0.02250146]\n"
          ]
        }
      ]
    },
    {
      "cell_type": "code",
      "source": [
        "c3 = a[0] * h1 + a[1] * h2 + a[2] * h3\n",
        "print(\"c3 =\", c3)"
      ],
      "metadata": {
        "colab": {
          "base_uri": "https://localhost:8080/"
        },
        "id": "bk3prssrXuI3",
        "outputId": "bfc7f605-5cd3-4014-8dc0-dc51633c77fb"
      },
      "execution_count": 47,
      "outputs": [
        {
          "output_type": "stream",
          "name": "stdout",
          "text": [
            "c3 = [0.60002324 0.67481384 0.73223773 0.78432713]\n"
          ]
        }
      ]
    },
    {
      "cell_type": "markdown",
      "source": [
        "# hw6-4"
      ],
      "metadata": {
        "id": "JyoQIkTLX7Nn"
      }
    },
    {
      "cell_type": "code",
      "source": [
        "x1 = np.array([1, 2, 3])\n",
        "x2 = np.array([0, 1, -1])\n",
        "x3 = np.array([-2, 0, 2])\n",
        "X = np.stack([x1, x2, x3])  # shape: (3, 3)\n",
        "# 整合為一個矩陣 X（3 個詞，維度為 3）\n",
        "\n",
        "\n",
        "Wq = np.array([[0, 0 ,1],\n",
        "        [1, 0 ,0],\n",
        "        [0, 0 ,1]])\n",
        "\n",
        "Wk = np.array([[1, 0 ,1],\n",
        "        [0, 1 ,1],\n",
        "        [0, 1 ,0]])\n",
        "\n",
        "Wv = np.array([[0, 2 ,1],\n",
        "        [1, 0 ,3],\n",
        "        [1, 0 ,1]])\n",
        "\n",
        "b = np.array([0.01, 0.02, 0.03, 0.04])  # shape: (4,)\n",
        "\n"
      ],
      "metadata": {
        "id": "a9UOpqxOX51P"
      },
      "execution_count": 48,
      "outputs": []
    },
    {
      "cell_type": "code",
      "source": [
        "#計算出Q,K,V及 根號dk\n",
        "Q = X @ Wq\n",
        "K = X @ Wk\n",
        "V = X @ Wv\n",
        "\n",
        "dk = K.shape[1]\n",
        "sqrt_dk = np.sqrt(dk)\n",
        "\n",
        "print(\"Q =\\n\", Q)\n",
        "print(\"K =\\n\", K)\n",
        "print(\"V =\\n\", V)\n",
        "print(\"sqrt(dk) =\", sqrt_dk)"
      ],
      "metadata": {
        "colab": {
          "base_uri": "https://localhost:8080/"
        },
        "id": "PoZdOPEsYNPf",
        "outputId": "6c752c04-24c2-4152-8deb-6371d2717b4c"
      },
      "execution_count": 49,
      "outputs": [
        {
          "output_type": "stream",
          "name": "stdout",
          "text": [
            "Q =\n",
            " [[ 2  0  4]\n",
            " [ 1  0 -1]\n",
            " [ 0  0  0]]\n",
            "K =\n",
            " [[ 1  5  3]\n",
            " [ 0  0  1]\n",
            " [-2  2 -2]]\n",
            "V =\n",
            " [[ 5  2 10]\n",
            " [ 0  0  2]\n",
            " [ 2 -4  0]]\n",
            "sqrt(dk) = 1.7320508075688772\n"
          ]
        }
      ]
    },
    {
      "cell_type": "code",
      "source": [
        "def softmax(x):\n",
        "    e = np.exp(x - np.max(x, axis=-1, keepdims=True))\n",
        "    return e / np.sum(e, axis=-1, keepdims=True)"
      ],
      "metadata": {
        "id": "gZDCFEX2Yqe3"
      },
      "execution_count": 50,
      "outputs": []
    },
    {
      "cell_type": "code",
      "source": [
        "scores = np.dot(Q, K.T) / np.sqrt(dk)\n",
        "attention_weights = softmax(scores)\n",
        "output = np.dot(attention_weights, V)\n",
        "\n",
        "print(\"Attention weights =\\n\", attention_weights)\n",
        "print(\"Self-Attention Output =\\n\", output)"
      ],
      "metadata": {
        "colab": {
          "base_uri": "https://localhost:8080/"
        },
        "id": "pJvLvWXOY3c_",
        "outputId": "d54d57a1-37f1-4576-88b2-fc0b60712de7"
      },
      "execution_count": 51,
      "outputs": [
        {
          "output_type": "stream",
          "name": "stdout",
          "text": [
            "Attention weights =\n",
            " [[9.96900485e-01 3.09921316e-03 3.01585787e-07]\n",
            " [1.67943450e-01 2.99159712e-01 5.32896838e-01]\n",
            " [3.33333333e-01 3.33333333e-01 3.33333333e-01]]\n",
            "Self-Attention Output =\n",
            " [[ 4.98450303  1.99379976  9.97520328]\n",
            " [ 1.90551093 -1.79570045  2.27775393]\n",
            " [ 2.33333333 -0.66666667  4.        ]]\n"
          ]
        }
      ]
    },
    {
      "cell_type": "code",
      "source": [
        "#驗證x1\n",
        "q1 = np.dot(x1 , Wq)\n",
        "k1 = np.dot(x1 , Wk)\n",
        "v1 = np.dot(x1 , Wv)\n",
        "\n",
        "print(\"q1 =\", q1)\n",
        "print(\"Q[0] =\", Q[0])  # 應與 q1 相同\n",
        "\n",
        "print(\"k1 =\", k1)\n",
        "print(\"K[0] =\", K[0])  # 應與 k1 相同\n",
        "\n",
        "print(\"v1 =\", v1)\n",
        "print(\"V[0] =\", V[0])  # 應與 v1 相同"
      ],
      "metadata": {
        "colab": {
          "base_uri": "https://localhost:8080/"
        },
        "id": "H0-83SwvZHdL",
        "outputId": "0ffca7a9-a5b4-4246-ebfb-57224bebb39f"
      },
      "execution_count": 52,
      "outputs": [
        {
          "output_type": "stream",
          "name": "stdout",
          "text": [
            "q1 = [2 0 4]\n",
            "Q[0] = [2 0 4]\n",
            "k1 = [1 5 3]\n",
            "K[0] = [1 5 3]\n",
            "v1 = [ 5  2 10]\n",
            "V[0] = [ 5  2 10]\n"
          ]
        }
      ]
    },
    {
      "cell_type": "code",
      "source": [
        "#驗證x2\n",
        "q2 = np.dot(x2 , Wq)\n",
        "k2 = np.dot(x2 , Wk)\n",
        "v2 = np.dot(x2 , Wv)\n",
        "\n",
        "print(\"q2 =\", q2)\n",
        "print(\"Q[1] =\", Q[1])  # 應與 q2 相同\n",
        "\n",
        "print(\"k2 =\", k2)\n",
        "print(\"K[1] =\", K[1])  # 應與 k2 相同\n",
        "\n",
        "print(\"v2 =\", v2)\n",
        "print(\"V[1] =\", V[1])  # 應與 v2 相同"
      ],
      "metadata": {
        "colab": {
          "base_uri": "https://localhost:8080/"
        },
        "id": "JOXIMgWRZLrD",
        "outputId": "23f33a19-d8a8-40f9-ff52-19526b917e77"
      },
      "execution_count": 53,
      "outputs": [
        {
          "output_type": "stream",
          "name": "stdout",
          "text": [
            "q2 = [ 1  0 -1]\n",
            "Q[1] = [ 1  0 -1]\n",
            "k2 = [0 0 1]\n",
            "K[1] = [0 0 1]\n",
            "v2 = [0 0 2]\n",
            "V[1] = [0 0 2]\n"
          ]
        }
      ]
    },
    {
      "cell_type": "code",
      "source": [
        "#驗證x2\n",
        "q3 = np.dot(x3 , Wq)\n",
        "k3 = np.dot(x3 , Wk)\n",
        "v3 = np.dot(x3 , Wv)\n",
        "\n",
        "print(\"q3 =\", q3)\n",
        "print(\"Q[2] =\", Q[2])  # 應與 q3 相同\n",
        "\n",
        "print(\"k3 =\", k3)\n",
        "print(\"K[2] =\", K[2])  # 應與 k3 相同\n",
        "\n",
        "print(\"v3 =\", v3)\n",
        "print(\"V[2] =\", V[2])  # 應與 v3 相同"
      ],
      "metadata": {
        "colab": {
          "base_uri": "https://localhost:8080/"
        },
        "id": "vA-_CcGyZN4b",
        "outputId": "a7639bc3-138f-4ce8-ddb5-885f290462c5"
      },
      "execution_count": 54,
      "outputs": [
        {
          "output_type": "stream",
          "name": "stdout",
          "text": [
            "q3 = [0 0 0]\n",
            "Q[2] = [0 0 0]\n",
            "k3 = [-2  2 -2]\n",
            "K[2] = [-2  2 -2]\n",
            "v3 = [ 2 -4  0]\n",
            "V[2] = [ 2 -4  0]\n"
          ]
        }
      ]
    }
  ]
}