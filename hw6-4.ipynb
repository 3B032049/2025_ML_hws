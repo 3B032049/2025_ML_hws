{
  "nbformat": 4,
  "nbformat_minor": 0,
  "metadata": {
    "colab": {
      "provenance": [],
      "authorship_tag": "ABX9TyO+c+h29rvzYmK6fURFr8I0",
      "include_colab_link": true
    },
    "kernelspec": {
      "name": "python3",
      "display_name": "Python 3"
    },
    "language_info": {
      "name": "python"
    }
  },
  "cells": [
    {
      "cell_type": "markdown",
      "metadata": {
        "id": "view-in-github",
        "colab_type": "text"
      },
      "source": [
        "<a href=\"https://colab.research.google.com/github/3B032049/2025_ML_hws/blob/main/hw6-4.ipynb\" target=\"_parent\"><img src=\"https://colab.research.google.com/assets/colab-badge.svg\" alt=\"Open In Colab\"/></a>"
      ]
    },
    {
      "cell_type": "code",
      "execution_count": 9,
      "metadata": {
        "id": "dRfWeeBjVMg0"
      },
      "outputs": [],
      "source": [
        "import numpy as np\n",
        "\n",
        "\n",
        "x1 = np.array([1, 2, 3])\n",
        "x2 = np.array([0, 1, -1])\n",
        "x3 = np.array([-2, 0, 2])\n",
        "\n",
        "\n",
        "\n",
        "# 整合為一個矩陣 X（3 個詞，維度為 3）\n",
        "X = np.stack([x1, x2, x3])  # shape: (3, 3)\n",
        "\n",
        "Wq = np.array([[0, 0 ,1],\n",
        "        [1, 0 ,0],\n",
        "        [0, 0 ,1]])\n",
        "\n",
        "Wk = np.array([[1, 0 ,1],\n",
        "        [0, 1 ,1],\n",
        "        [0, 1 ,0]])\n",
        "\n",
        "Wv = np.array([[0, 2 ,1],\n",
        "        [1, 0 ,3],\n",
        "        [1, 0 ,1]])\n",
        "\n",
        "b = np.array([0.01, 0.02, 0.03, 0.04])  # shape: (4,)\n",
        "\n"
      ]
    },
    {
      "cell_type": "code",
      "source": [
        "Q = X @ Wq\n",
        "K = X @ Wk\n",
        "V = X @ Wv\n",
        "\n",
        "print(\"Q \\n\", Q)\n",
        "print(\"K \\n\", K)\n",
        "print(\"V \\n\", V)"
      ],
      "metadata": {
        "colab": {
          "base_uri": "https://localhost:8080/"
        },
        "id": "Dvs39Obm4Qna",
        "outputId": "a88ba00e-7a04-4727-e073-8b8da7d94646"
      },
      "execution_count": 10,
      "outputs": [
        {
          "output_type": "stream",
          "name": "stdout",
          "text": [
            "Q \n",
            " [[ 2  0  4]\n",
            " [ 1  0 -1]\n",
            " [ 0  0  0]]\n",
            "K \n",
            " [[ 1  5  3]\n",
            " [ 0  0  1]\n",
            " [-2  2 -2]]\n",
            "V \n",
            " [[ 5  2 10]\n",
            " [ 0  0  2]\n",
            " [ 2 -4  0]]\n"
          ]
        }
      ]
    },
    {
      "cell_type": "code",
      "source": [
        "def softmax(x):\n",
        "    e = np.exp(x - np.max(x, axis=-1, keepdims=True))\n",
        "    return e / np.sum(e, axis=-1, keepdims=True)"
      ],
      "metadata": {
        "id": "c0b3iZQA5bP-"
      },
      "execution_count": 11,
      "outputs": []
    },
    {
      "cell_type": "code",
      "source": [
        "dk = Q.shape[1]  # d_k = 2\n",
        "scores = np.dot(Q , K.T) / np.sqrt(dk)  # shape: (3, 3)\n",
        "weights = softmax(scores)       # shape: (3, 3)\n",
        "attention_output = weights @ V  # shape: (3, 2)\n",
        "\n",
        "print(\"注意力權重（softmax(QK^T/√dk)） =\\n\", weights)\n",
        "print(\"Self-Attention Output =\\n\", attention_output)\n",
        "\n",
        "print(\"注意力權重（softmax(QK^T/√dk)） =\\n\", weights)\n",
        "print(\"Self-Attention Output =\\n\", attention_output)"
      ],
      "metadata": {
        "colab": {
          "base_uri": "https://localhost:8080/"
        },
        "id": "phe1RC--9TPe",
        "outputId": "d1bc952c-c2a4-47c7-a097-c7eb08c7b2d8"
      },
      "execution_count": 12,
      "outputs": [
        {
          "output_type": "stream",
          "name": "stdout",
          "text": [
            "注意力權重（softmax(QK^T/√dk)） =\n",
            " [[9.96900485e-01 3.09921316e-03 3.01585787e-07]\n",
            " [1.67943450e-01 2.99159712e-01 5.32896838e-01]\n",
            " [3.33333333e-01 3.33333333e-01 3.33333333e-01]]\n",
            "Self-Attention Output =\n",
            " [[ 4.98450303  1.99379976  9.97520328]\n",
            " [ 1.90551093 -1.79570045  2.27775393]\n",
            " [ 2.33333333 -0.66666667  4.        ]]\n",
            "注意力權重（softmax(QK^T/√dk)） =\n",
            " [[9.96900485e-01 3.09921316e-03 3.01585787e-07]\n",
            " [1.67943450e-01 2.99159712e-01 5.32896838e-01]\n",
            " [3.33333333e-01 3.33333333e-01 3.33333333e-01]]\n",
            "Self-Attention Output =\n",
            " [[ 4.98450303  1.99379976  9.97520328]\n",
            " [ 1.90551093 -1.79570045  2.27775393]\n",
            " [ 2.33333333 -0.66666667  4.        ]]\n"
          ]
        }
      ]
    },
    {
      "cell_type": "code",
      "source": [
        "#驗證x1\n",
        "q1 = np.dot(x1 , Wq)\n",
        "k1 = np.dot(x1 , Wk)\n",
        "v1 = np.dot(x1 , Wv)\n",
        "\n",
        "print(\"q1 =\", q1)\n",
        "print(\"Q[0] =\", Q[0])  # 應與 q1 相同\n",
        "\n",
        "print(\"k1 =\", k1)\n",
        "print(\"K[0] =\", K[0])  # 應與 k1 相同\n",
        "\n",
        "print(\"v1 =\", v1)\n",
        "print(\"V[0] =\", V[0])  # 應與 v1 相同"
      ],
      "metadata": {
        "colab": {
          "base_uri": "https://localhost:8080/"
        },
        "id": "xkzrYjJl-Bte",
        "outputId": "b124a8be-8a8b-4f68-847a-8170a10dc7d1"
      },
      "execution_count": 13,
      "outputs": [
        {
          "output_type": "stream",
          "name": "stdout",
          "text": [
            "q1 = [2 0 4]\n",
            "Q[0] = [2 0 4]\n",
            "k1 = [1 5 3]\n",
            "K[0] = [1 5 3]\n",
            "v1 = [ 5  2 10]\n",
            "V[0] = [ 5  2 10]\n"
          ]
        }
      ]
    },
    {
      "cell_type": "code",
      "source": [
        "#驗證x2\n",
        "q2 = np.dot(x2 , Wq)\n",
        "k2 = np.dot(x2 , Wk)\n",
        "v2 = np.dot(x2 , Wv)\n",
        "\n",
        "print(\"q2 =\", q2)\n",
        "print(\"Q[1] =\", Q[1])  # 應與 q2 相同\n",
        "\n",
        "print(\"k2 =\", k2)\n",
        "print(\"K[1] =\", K[1])  # 應與 k2 相同\n",
        "\n",
        "print(\"v2 =\", v2)\n",
        "print(\"V[1] =\", V[1])  # 應與 v2 相同"
      ],
      "metadata": {
        "colab": {
          "base_uri": "https://localhost:8080/"
        },
        "id": "8A704VRtboet",
        "outputId": "f0afb998-6d12-4141-b392-5b7ba98cb3d9"
      },
      "execution_count": 14,
      "outputs": [
        {
          "output_type": "stream",
          "name": "stdout",
          "text": [
            "q2 = [ 1  0 -1]\n",
            "Q[1] = [ 1  0 -1]\n",
            "k2 = [0 0 1]\n",
            "K[1] = [0 0 1]\n",
            "v2 = [0 0 2]\n",
            "V[1] = [0 0 2]\n"
          ]
        }
      ]
    },
    {
      "cell_type": "code",
      "source": [
        "#驗證x2\n",
        "q3 = np.dot(x3 , Wq)\n",
        "k3 = np.dot(x3 , Wk)\n",
        "v3 = np.dot(x3 , Wv)\n",
        "\n",
        "print(\"q3 =\", q3)\n",
        "print(\"Q[2] =\", Q[2])  # 應與 q3 相同\n",
        "\n",
        "print(\"k3 =\", k3)\n",
        "print(\"K[2] =\", K[2])  # 應與 k3 相同\n",
        "\n",
        "print(\"v3 =\", v3)\n",
        "print(\"V[2] =\", V[2])  # 應與 v3 相同"
      ],
      "metadata": {
        "colab": {
          "base_uri": "https://localhost:8080/"
        },
        "id": "01kLd7tncDpw",
        "outputId": "44b8ac8c-a9ce-40e6-cda8-19a0937d5714"
      },
      "execution_count": 15,
      "outputs": [
        {
          "output_type": "stream",
          "name": "stdout",
          "text": [
            "q3 = [0 0 0]\n",
            "Q[2] = [0 0 0]\n",
            "k3 = [-2  2 -2]\n",
            "K[2] = [-2  2 -2]\n",
            "v3 = [ 2 -4  0]\n",
            "V[2] = [ 2 -4  0]\n"
          ]
        }
      ]
    }
  ]
}