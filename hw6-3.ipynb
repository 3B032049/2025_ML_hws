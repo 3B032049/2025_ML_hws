{
  "nbformat": 4,
  "nbformat_minor": 0,
  "metadata": {
    "colab": {
      "provenance": [],
      "authorship_tag": "ABX9TyPpBV2GyBezRlUB0CMJKoZ3",
      "include_colab_link": true
    },
    "kernelspec": {
      "name": "python3",
      "display_name": "Python 3"
    },
    "language_info": {
      "name": "python"
    }
  },
  "cells": [
    {
      "cell_type": "markdown",
      "metadata": {
        "id": "view-in-github",
        "colab_type": "text"
      },
      "source": [
        "<a href=\"https://colab.research.google.com/github/3B032049/2025_ML_hws/blob/main/hw6-3.ipynb\" target=\"_parent\"><img src=\"https://colab.research.google.com/assets/colab-badge.svg\" alt=\"Open In Colab\"/></a>"
      ]
    },
    {
      "cell_type": "code",
      "execution_count": 16,
      "metadata": {
        "id": "dRfWeeBjVMg0"
      },
      "outputs": [],
      "source": [
        "import numpy as np\n",
        "\n",
        "\n",
        "x1 = np.array([1, 2, 3])\n",
        "x2 = np.array([0, 1, -1])\n",
        "x3 = np.array([-2, 0, 2])\n",
        "\n",
        "\n",
        "Wx = np.array([\n",
        "    [1, 2, 3, 4],\n",
        "    [5, 6, 7, 8],\n",
        "    [9, 1, 11, 12]\n",
        "])  # shape: (3, 4)\n",
        "\n",
        "Wh = np.array([\n",
        "    [1, 0, -1, 0],\n",
        "    [0, 1, 0, -1],\n",
        "    [-1, 0, 1, 0],\n",
        "    [0, -1, 0, 1]\n",
        "])  # shape: (4, 4)\n",
        "\n",
        "b = np.array([0.01, 0.02, 0.03, 0.04])  # shape: (4,)"
      ]
    },
    {
      "cell_type": "code",
      "source": [
        "def rnn_step(x_t, h_prev):\n",
        "    return np.tanh(np.dot(x_t, Wx) + np.dot(h_prev, Wh) + b)"
      ],
      "metadata": {
        "id": "u7vXlykCVntb"
      },
      "execution_count": 17,
      "outputs": []
    },
    {
      "cell_type": "code",
      "source": [
        "# 初始狀態 h0 設為零向量\n",
        "h0 = np.zeros(4)\n",
        "\n",
        "# 時間步 t=1\n",
        "h1 = rnn_step(x1, h0)\n",
        "print(\"h1 =\", h1)\n",
        "\n",
        "# 時間步 t=2\n",
        "h2 = rnn_step(x2, h1)\n",
        "print(\"h2 =\", h2)\n",
        "\n",
        "# 時間步 t=3\n",
        "h3 = rnn_step(x3, h2)\n",
        "print(\"h3 =\", h3)"
      ],
      "metadata": {
        "colab": {
          "base_uri": "https://localhost:8080/"
        },
        "id": "mxewwcc1Vqd7",
        "outputId": "1b7ad5be-d48f-43bf-da99-13618bd075ae"
      },
      "execution_count": 18,
      "outputs": [
        {
          "output_type": "stream",
          "name": "stdout",
          "text": [
            "h1 = [1. 1. 1. 1.]\n",
            "h2 = [-0.99931576  0.99991276 -0.99928784 -0.99927346]\n",
            "h3 = [1.         0.01918387 1.         1.        ]\n"
          ]
        }
      ]
    },
    {
      "cell_type": "code",
      "source": [
        "# Decoder 第 3 步的 query 向量\n",
        "S3 = np.array([2, 5, 3, 1])  # shape: (4,)"
      ],
      "metadata": {
        "id": "ulSS60_M6Vnh"
      },
      "execution_count": 19,
      "outputs": []
    },
    {
      "cell_type": "code",
      "source": [
        "# 計算注意力強度 e1, e2, e3（內積）\n",
        "e1 = np.dot(S3, h1)\n",
        "e2 = np.dot(S3, h2)\n",
        "e3 = np.dot(S3, h3)"
      ],
      "metadata": {
        "id": "cqdTwvde6ZAy"
      },
      "execution_count": 20,
      "outputs": []
    },
    {
      "cell_type": "code",
      "source": [
        "print(\"注意力強度 e =\", [e1, e2, e3])"
      ],
      "metadata": {
        "colab": {
          "base_uri": "https://localhost:8080/"
        },
        "id": "hhIuguS66bIJ",
        "outputId": "0b67b6da-7a63-4629-eca0-0547a83ba277"
      },
      "execution_count": 21,
      "outputs": [
        {
          "output_type": "stream",
          "name": "stdout",
          "text": [
            "注意力強度 e = [np.float64(10.999999999999982), np.float64(-0.996204670896435), np.float64(6.0959193487892565)]\n"
          ]
        }
      ]
    },
    {
      "cell_type": "code",
      "source": [
        "# 定義 softmax 函數\n",
        "def softmax(e):\n",
        "    e = np.array(e)\n",
        "    exp_e = np.exp(e - np.max(e))\n",
        "    return exp_e / np.sum(exp_e)"
      ],
      "metadata": {
        "id": "weDXVSbn6iWM"
      },
      "execution_count": 22,
      "outputs": []
    },
    {
      "cell_type": "code",
      "source": [
        "# 計算注意力權重 α1, α2, α3\n",
        "alphas = softmax([e1, e2, e3])\n",
        "alpha1, alpha2, alpha3 = alphas\n",
        "print(\"注意力權重 α =\", alphas)"
      ],
      "metadata": {
        "colab": {
          "base_uri": "https://localhost:8080/"
        },
        "id": "F3o-8eS36k0a",
        "outputId": "b9253fa5-91a3-4074-fb56-dcb64abfc7a3"
      },
      "execution_count": 34,
      "outputs": [
        {
          "output_type": "stream",
          "name": "stdout",
          "text": [
            "注意力權重 α = [9.92632261e-01 6.12213488e-06 7.36161702e-03]\n"
          ]
        }
      ]
    },
    {
      "cell_type": "code",
      "source": [
        "# 計算語境向量 c3（加權平均）\n",
        "c3 = alpha1 * h1 + alpha2 * h2 + alpha3 * h3\n",
        "print(\"語境向量 c3 =\", c3)"
      ],
      "metadata": {
        "colab": {
          "base_uri": "https://localhost:8080/"
        },
        "id": "2h0-Z9DK6n6i",
        "outputId": "350c62ec-abda-41ae-8517-75c6dc4978d2"
      },
      "execution_count": 24,
      "outputs": [
        {
          "output_type": "stream",
          "name": "stdout",
          "text": [
            "語境向量 c3 = [0.99998776 0.99277961 0.99998776 0.99998776]\n"
          ]
        }
      ]
    }
  ]
}